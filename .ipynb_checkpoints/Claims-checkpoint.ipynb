{
 "cells": [
  {
   "cell_type": "code",
   "execution_count": 1,
   "id": "192c294d",
   "metadata": {},
   "outputs": [],
   "source": [
    "import pandas as pd\n",
    "import matplotlib.pyplot as plt\n",
    "import seaborn as sns"
   ]
  },
  {
   "cell_type": "code",
   "execution_count": 4,
   "id": "d7f60382",
   "metadata": {},
   "outputs": [],
   "source": [
    "claims = pd.read_csv(\"claims_final.csv\", sep=\";\")"
   ]
  },
  {
   "cell_type": "code",
   "execution_count": 5,
   "id": "f85a188b",
   "metadata": {},
   "outputs": [
    {
     "data": {
      "text/html": [
       "<div>\n",
       "<style scoped>\n",
       "    .dataframe tbody tr th:only-of-type {\n",
       "        vertical-align: middle;\n",
       "    }\n",
       "\n",
       "    .dataframe tbody tr th {\n",
       "        vertical-align: top;\n",
       "    }\n",
       "\n",
       "    .dataframe thead th {\n",
       "        text-align: right;\n",
       "    }\n",
       "</style>\n",
       "<table border=\"1\" class=\"dataframe\">\n",
       "  <thead>\n",
       "    <tr style=\"text-align: right;\">\n",
       "      <th></th>\n",
       "      <th>Claim ID</th>\n",
       "      <th>Time to Close</th>\n",
       "      <th>Claim Amount</th>\n",
       "      <th>Amount Paid</th>\n",
       "      <th>Location</th>\n",
       "      <th>Individuals on Claim</th>\n",
       "      <th>Linked Cases</th>\n",
       "      <th>Cause</th>\n",
       "    </tr>\n",
       "  </thead>\n",
       "  <tbody>\n",
       "    <tr>\n",
       "      <th>0</th>\n",
       "      <td>0000000-00.2010.0.00.0094</td>\n",
       "      <td>2082</td>\n",
       "      <td>50000.0</td>\n",
       "      <td>34297.47</td>\n",
       "      <td>RECIFE</td>\n",
       "      <td>2</td>\n",
       "      <td>False</td>\n",
       "      <td>unknown</td>\n",
       "    </tr>\n",
       "    <tr>\n",
       "      <th>1</th>\n",
       "      <td>0000000-00.2011.0.00.0086</td>\n",
       "      <td>3591</td>\n",
       "      <td>180000.0</td>\n",
       "      <td>56383.54</td>\n",
       "      <td>SAO LUIS</td>\n",
       "      <td>7</td>\n",
       "      <td>False</td>\n",
       "      <td>unknown</td>\n",
       "    </tr>\n",
       "    <tr>\n",
       "      <th>2</th>\n",
       "      <td>0000000-00.2012.0.00.0092</td>\n",
       "      <td>2997</td>\n",
       "      <td>70000.0</td>\n",
       "      <td>12366.76</td>\n",
       "      <td>SAO LUIS</td>\n",
       "      <td>3</td>\n",
       "      <td>False</td>\n",
       "      <td>vegetables</td>\n",
       "    </tr>\n",
       "    <tr>\n",
       "      <th>3</th>\n",
       "      <td>0000000-00.2013.0.00.0096</td>\n",
       "      <td>1143</td>\n",
       "      <td>95104.0</td>\n",
       "      <td>29217.16</td>\n",
       "      <td>FORTALEZA</td>\n",
       "      <td>4</td>\n",
       "      <td>False</td>\n",
       "      <td>unknown</td>\n",
       "    </tr>\n",
       "    <tr>\n",
       "      <th>4</th>\n",
       "      <td>0000000-00.2014.0.00.0097</td>\n",
       "      <td>117</td>\n",
       "      <td>29000.0</td>\n",
       "      <td>12610.50</td>\n",
       "      <td>FORTALEZA</td>\n",
       "      <td>1</td>\n",
       "      <td>False</td>\n",
       "      <td>meat</td>\n",
       "    </tr>\n",
       "  </tbody>\n",
       "</table>\n",
       "</div>"
      ],
      "text/plain": [
       "                    Claim ID  Time to Close  Claim Amount  Amount Paid  \\\n",
       "0  0000000-00.2010.0.00.0094           2082       50000.0     34297.47   \n",
       "1  0000000-00.2011.0.00.0086           3591      180000.0     56383.54   \n",
       "2  0000000-00.2012.0.00.0092           2997       70000.0     12366.76   \n",
       "3  0000000-00.2013.0.00.0096           1143       95104.0     29217.16   \n",
       "4  0000000-00.2014.0.00.0097            117       29000.0     12610.50   \n",
       "\n",
       "    Location  Individuals on Claim  Linked Cases       Cause  \n",
       "0     RECIFE                     2         False     unknown  \n",
       "1   SAO LUIS                     7         False     unknown  \n",
       "2   SAO LUIS                     3         False  vegetables  \n",
       "3  FORTALEZA                     4         False     unknown  \n",
       "4  FORTALEZA                     1         False        meat  "
      ]
     },
     "execution_count": 5,
     "metadata": {},
     "output_type": "execute_result"
    }
   ],
   "source": [
    "claims.head()"
   ]
  },
  {
   "cell_type": "markdown",
   "id": "4274e7c3",
   "metadata": {},
   "source": [
    "How does the number of claims differ across locations?"
   ]
  },
  {
   "cell_type": "code",
   "execution_count": 34,
   "id": "848a1348",
   "metadata": {},
   "outputs": [],
   "source": [
    "location = claims.Location.value_counts().reset_index()"
   ]
  },
  {
   "cell_type": "code",
   "execution_count": 36,
   "id": "578da6a2",
   "metadata": {},
   "outputs": [],
   "source": [
    "location.columns = [\"location\", \"total\"]"
   ]
  },
  {
   "cell_type": "code",
   "execution_count": 33,
   "id": "0047fb5d",
   "metadata": {},
   "outputs": [
    {
     "ename": "AttributeError",
     "evalue": "'list' object has no attribute 'containers'",
     "output_type": "error",
     "traceback": [
      "\u001b[1;31m---------------------------------------------------------------------------\u001b[0m",
      "\u001b[1;31mAttributeError\u001b[0m                            Traceback (most recent call last)",
      "\u001b[1;32m~\\AppData\\Local\\Temp/ipykernel_7088/3266574409.py\u001b[0m in \u001b[0;36m<module>\u001b[1;34m\u001b[0m\n\u001b[0;32m      1\u001b[0m \u001b[0max\u001b[0m \u001b[1;33m=\u001b[0m \u001b[0msns\u001b[0m\u001b[1;33m.\u001b[0m\u001b[0mbarplot\u001b[0m\u001b[1;33m(\u001b[0m\u001b[0mx\u001b[0m \u001b[1;33m=\u001b[0m \u001b[1;34m\"total\"\u001b[0m\u001b[1;33m,\u001b[0m \u001b[0my\u001b[0m \u001b[1;33m=\u001b[0m \u001b[1;34m\"location\"\u001b[0m\u001b[1;33m,\u001b[0m \u001b[0mdata\u001b[0m \u001b[1;33m=\u001b[0m \u001b[0mlocation\u001b[0m\u001b[1;33m)\u001b[0m\u001b[1;33m.\u001b[0m\u001b[0mset\u001b[0m\u001b[1;33m(\u001b[0m\u001b[0mtitle\u001b[0m\u001b[1;33m=\u001b[0m\u001b[1;34m\"Claims according to location\"\u001b[0m\u001b[1;33m)\u001b[0m\u001b[1;33m\u001b[0m\u001b[1;33m\u001b[0m\u001b[0m\n\u001b[1;32m----> 2\u001b[1;33m \u001b[1;32mfor\u001b[0m \u001b[0mbars\u001b[0m \u001b[1;32min\u001b[0m \u001b[0max\u001b[0m\u001b[1;33m.\u001b[0m\u001b[0mcontainers\u001b[0m\u001b[1;33m:\u001b[0m\u001b[1;33m\u001b[0m\u001b[1;33m\u001b[0m\u001b[0m\n\u001b[0m\u001b[0;32m      3\u001b[0m         \u001b[0max\u001b[0m\u001b[1;33m.\u001b[0m\u001b[0mbar_label\u001b[0m\u001b[1;33m(\u001b[0m\u001b[0mbars\u001b[0m\u001b[1;33m,\u001b[0m \u001b[0mfmt\u001b[0m\u001b[1;33m=\u001b[0m\u001b[1;34m'%.1f'\u001b[0m\u001b[1;33m)\u001b[0m\u001b[1;33m\u001b[0m\u001b[1;33m\u001b[0m\u001b[0m\n\u001b[0;32m      4\u001b[0m \u001b[0mplt\u001b[0m\u001b[1;33m.\u001b[0m\u001b[0mtight_layout\u001b[0m\u001b[1;33m(\u001b[0m\u001b[1;33m)\u001b[0m\u001b[1;33m\u001b[0m\u001b[1;33m\u001b[0m\u001b[0m\n\u001b[0;32m      5\u001b[0m \u001b[0mplt\u001b[0m\u001b[1;33m.\u001b[0m\u001b[0mshow\u001b[0m\u001b[1;33m(\u001b[0m\u001b[1;33m)\u001b[0m\u001b[1;33m\u001b[0m\u001b[1;33m\u001b[0m\u001b[0m\n",
      "\u001b[1;31mAttributeError\u001b[0m: 'list' object has no attribute 'containers'"
     ]
    },
    {
     "data": {
      "image/png": "[encoded data removed]",
      "text/plain": [
       "<Figure size 432x288 with 1 Axes>"
      ]
     },
     "metadata": {
      "needs_background": "light"
     },
     "output_type": "display_data"
    }
   ],
   "source": [
    "ax = sns.barplot(x = \"total\", y = \"location\", data = location).set(title=\"Claims according to location\")\n",
    "for bars in bar.patches:\n",
    "    bar.text(bars.get_x(),bars.get_width(),bars.get_width()) "
   ]
  },
  {
   "cell_type": "code",
   "execution_count": null,
   "id": "8da55ee2",
   "metadata": {},
   "outputs": [],
   "source": []
  }
 ],
 "metadata": {
  "kernelspec": {
   "display_name": "Python 3 (ipykernel)",
   "language": "python",
   "name": "python3"
  },
  "language_info": {
   "codemirror_mode": {
    "name": "ipython",
    "version": 3
   },
   "file_extension": ".py",
   "mimetype": "text/x-python",
   "name": "python",
   "nbconvert_exporter": "python",
   "pygments_lexer": "ipython3",
   "version": "3.9.7"
  }
 },
 "nbformat": 4,
 "nbformat_minor": 5
}
